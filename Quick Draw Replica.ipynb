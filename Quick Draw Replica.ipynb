{
 "cells": [
  {
   "cell_type": "code",
   "execution_count": 1,
   "id": "8925ed50",
   "metadata": {},
   "outputs": [],
   "source": [
    "import numpy as np \n",
    "import matplotlib.pyplot as plt\n",
    "import pandas as pd\n",
    "import random\n",
    "import gradio as gr\n",
    "import time\n",
    "import json"
   ]
  },
  {
   "cell_type": "code",
   "execution_count": 2,
   "id": "b0026322",
   "metadata": {},
   "outputs": [],
   "source": [
    "data_eiffel=np.load(\"Data/Eiffel Tower.npy\",mmap_mode=None, allow_pickle=False, fix_imports=True, encoding='ASCII')\n",
    "data_airplane=np.load(\"Data/airplane.npy\",mmap_mode=None, allow_pickle=False, fix_imports=True, encoding='ASCII')\n",
    "data_apple=np.load(\"Data/apple.npy\",mmap_mode=None, allow_pickle=False, fix_imports=True, encoding='ASCII')\n",
    "data_bee=np.load(\"Data/bee.npy\",mmap_mode=None, allow_pickle=False, fix_imports=True, encoding='ASCII')\n",
    "data_cake=np.load(\"Data/cake.npy\",mmap_mode=None, allow_pickle=False, fix_imports=True, encoding='ASCII')\n",
    "data_car=np.load(\"Data/car.npy\",mmap_mode=None, allow_pickle=False, fix_imports=True, encoding='ASCII')\n",
    "data_church=np.load(\"Data/church.npy\",mmap_mode=None, allow_pickle=False, fix_imports=True, encoding='ASCII')\n",
    "data_dolphin=np.load(\"Data/dolphin.npy\",mmap_mode=None, allow_pickle=False, fix_imports=True, encoding='ASCII')\n",
    "data_dragon=np.load(\"Data/dragon.npy\",mmap_mode=None, allow_pickle=False, fix_imports=True, encoding='ASCII')\n",
    "data_house=np.load(\"Data/house.npy\",mmap_mode=None, allow_pickle=False, fix_imports=True, encoding='ASCII')"
   ]
  },
  {
   "cell_type": "code",
   "execution_count": 3,
   "id": "49ea2638",
   "metadata": {},
   "outputs": [],
   "source": [
    "data_eiffel=data_eiffel[0:10000,:]\n",
    "data_airplane=data_airplane[0:20000,:]\n",
    "data_apple=data_apple[0:20000,:]\n",
    "data_bee=data_bee[0:10000,:]\n",
    "data_cake=data_cake[0:10000,:]\n",
    "data_car=data_car[0:10000,:]\n",
    "data_church=data_church[0:10000,:]\n",
    "data_dolphin=data_dolphin[0:10000,:]\n",
    "data_dragon=data_dragon[0:10000,:]\n",
    "data_house=data_house[0:10000,:]"
   ]
  },
  {
   "cell_type": "code",
   "execution_count": 4,
   "id": "36e85539",
   "metadata": {},
   "outputs": [],
   "source": [
    "data=np.concatenate([data_eiffel,data_airplane,data_apple,data_bee,data_cake,data_car,data_church,data_dolphin,data_dragon,data_house],axis=0)"
   ]
  },
  {
   "cell_type": "code",
   "execution_count": 5,
   "id": "37b6231c",
   "metadata": {},
   "outputs": [
    {
     "data": {
      "text/plain": [
       "(120000, 784)"
      ]
     },
     "execution_count": 5,
     "metadata": {},
     "output_type": "execute_result"
    }
   ],
   "source": [
    "data.shape"
   ]
  },
  {
   "cell_type": "code",
   "execution_count": 6,
   "id": "b504d060",
   "metadata": {},
   "outputs": [
    {
     "data": {
      "image/png": "[encoded data removed]",
      "text/plain": [
       "<Figure size 432x288 with 1 Axes>"
      ]
     },
     "metadata": {
      "needs_background": "light"
     },
     "output_type": "display_data"
    }
   ],
   "source": [
    "current_image = data_airplane[82,:]\n",
    "current_image = current_image.reshape((28, 28)) * 255\n",
    "plt.gray()\n",
    "plt.imshow(current_image, interpolation='nearest')\n",
    "plt.show()"
   ]
  },
  {
   "cell_type": "code",
   "execution_count": 7,
   "id": "8b06c1c5",
   "metadata": {},
   "outputs": [],
   "source": [
    "data=pd.DataFrame(data)"
   ]
  },
  {
   "cell_type": "code",
   "execution_count": 8,
   "id": "a1570a0a",
   "metadata": {},
   "outputs": [],
   "source": [
    "j=0\n",
    "i=0\n",
    "label=[]\n",
    "for i in range(120000):\n",
    "    label.append(j)\n",
    "    if j==1 or j==2:\n",
    "        if (i+1)==30000 or (i+1)==50000:\n",
    "            j+=1\n",
    "        continue\n",
    "    elif (i+1)%10000==0:\n",
    "        j+=1\n",
    "        "
   ]
  },
  {
   "cell_type": "code",
   "execution_count": 9,
   "id": "5e5b541c",
   "metadata": {},
   "outputs": [],
   "source": [
    "label=np.array(label)\n",
    "label=np.reshape(label,(len(label),1))\n",
    "label.shape\n",
    "label=label.T\n",
    "data=data.T\n",
    "data =np.concatenate([data,label],axis=0)"
   ]
  },
  {
   "cell_type": "code",
   "execution_count": 10,
   "id": "b6dd0633",
   "metadata": {},
   "outputs": [],
   "source": [
    "data=data.T\n",
    "data=data.astype('int64')"
   ]
  },
  {
   "cell_type": "code",
   "execution_count": 11,
   "id": "787085a9",
   "metadata": {},
   "outputs": [
    {
     "data": {
      "text/plain": [
       "(120000, 785)"
      ]
     },
     "execution_count": 11,
     "metadata": {},
     "output_type": "execute_result"
    }
   ],
   "source": [
    "data.shape"
   ]
  },
  {
   "cell_type": "code",
   "execution_count": 12,
   "id": "18316af3",
   "metadata": {},
   "outputs": [],
   "source": [
    "k, l = data.shape\n",
    "np.random.shuffle(data) # shuffle before splitting into dev and training sets\n",
    "\n",
    "data_test = data[0:20000].T\n",
    "Y_test = data_test[784]\n",
    "X_test = data_test[0:l-1]\n",
    "X_test = X_test / 255\n",
    "\n",
    "data_train = data[20000:k].T\n",
    "Y_train = data_train[784]\n",
    "Y=Y_train\n",
    "X_train = data_train[0:l-1]\n",
    "X_train = X_train / 255\n"
   ]
  },
  {
   "cell_type": "code",
   "execution_count": 37,
   "id": "e671ee6b",
   "metadata": {},
   "outputs": [
    {
     "data": {
      "text/plain": [
       "(784, 100000)"
      ]
     },
     "execution_count": 37,
     "metadata": {},
     "output_type": "execute_result"
    }
   ],
   "source": [
    "X_train.shape"
   ]
  },
  {
   "cell_type": "code",
   "execution_count": 14,
   "id": "f2bdc601",
   "metadata": {},
   "outputs": [],
   "source": [
    "def One_hot(Y):\n",
    "    one_hot_Y = np.zeros((Y.size, Y.max() + 1))\n",
    "    one_hot_Y[np.arange(Y.size), Y] = 1\n",
    "    one_hot_Y = one_hot_Y.T\n",
    "    return one_hot_Y\n",
    "Y_train=One_hot(Y_train)\n",
    "Y_test=One_hot(Y_test)"
   ]
  },
  {
   "cell_type": "code",
   "execution_count": 15,
   "id": "6f2a4d03",
   "metadata": {},
   "outputs": [
    {
     "data": {
      "text/plain": [
       "(784, 100000)"
      ]
     },
     "execution_count": 15,
     "metadata": {},
     "output_type": "execute_result"
    }
   ],
   "source": [
    "X_train.shape"
   ]
  },
  {
   "cell_type": "code",
   "execution_count": 16,
   "id": "3008184c",
   "metadata": {},
   "outputs": [],
   "source": [
    "training_data=(X_train,Y_train)"
   ]
  },
  {
   "cell_type": "code",
   "execution_count": 17,
   "id": "2fbf6d75",
   "metadata": {},
   "outputs": [],
   "source": [
    "test_data=(X_test,Y_test)"
   ]
  },
  {
   "cell_type": "code",
   "execution_count": 18,
   "id": "9f9988c6",
   "metadata": {},
   "outputs": [
    {
     "data": {
      "text/plain": [
       "100000"
      ]
     },
     "execution_count": 18,
     "metadata": {},
     "output_type": "execute_result"
    }
   ],
   "source": [
    "len(training_data[1][0])"
   ]
  },
  {
   "cell_type": "code",
   "execution_count": 19,
   "id": "57415a43",
   "metadata": {},
   "outputs": [],
   "source": [
    "#Creating the Network Class\n",
    "class Network(object):\n",
    "    def __init__(self,neurons):\n",
    "        self.weights=[np.random.randn(y,x)/np.sqrt(x)for x,y in zip (neurons[:-1],neurons[1:])]\n",
    "        self.bias=[np.random.randn(y,1)for y in neurons[1:]]\n",
    "        self.layers=len(neurons)\n",
    "        \n",
    "    def SGD(self,training_data,learning_rate,epochs,mini_batch_size,lmbda=0,monitor_cost=False,test_accuracy=False,test_data=None):\n",
    "        n=len(X_train[1])\n",
    "        training_cost=[]\n",
    "        training_accuracy=[]\n",
    "        test=[]\n",
    "        for i in range(epochs):\n",
    "            m=0\n",
    "            correct=0\n",
    "            mini_batches=[(training_data[0][:,k:k+mini_batch_size],training_data[1][:,k:k+mini_batch_size]) \n",
    "                          for k in range(0,n,mini_batch_size)]\n",
    "            for mini_batch in mini_batches:\n",
    "                m=self.update_mini_batch(mini_batch,learning_rate,m,lmbda,n)\n",
    "                \n",
    "            if monitor_cost:\n",
    "                cost=self.monitor_cost(training_data,lmbda)\n",
    "                training_cost.append(cost)\n",
    "            if test_accuracy:\n",
    "                correct=self.evaluate(test_data,correct)\n",
    "                test.append(correct)\n",
    "            training_accuracy.append(m)\n",
    "            print(f\"Epoch:{i},Accuracy={(m/n)*100}\")\n",
    "        return training_cost,training_accuracy,test\n",
    "                \n",
    "    def update_mini_batch(self,mini_batch,learning_rate,m,lmbda,n):\n",
    "        x_mini=mini_batch[0]\n",
    "        y_mini=mini_batch[1]\n",
    "        for x,y in zip(x_mini.T,y_mini.T):\n",
    "            x=np.reshape(x,(len(x),1))\n",
    "            y=np.reshape(y,(len(y),1))\n",
    "            derivative_biases,derivative_weights,activations=self.backpropogation(x,y)\n",
    "            self.weights=[(1-learning_rate*(lmbda/n))*w-(learning_rate*derivative_each_weight) \n",
    "                          for w,derivative_each_weight in zip(self.weights,derivative_weights)] #Updating the weights\n",
    "            self.bias=[b-(learning_rate*derivative_each_bias) \n",
    "                       for b,derivative_each_bias in zip(self.bias,derivative_biases)] #Updating the biases\n",
    "            prediction=self.get_predictions(activations[-1])\n",
    "            m+=self.get_accuracy(prediction,y)\n",
    "        return m\n",
    "            \n",
    "    def feedForward(self,x):\n",
    "        activation=x \n",
    "        activations=[x] #Storing the values of input layer\n",
    "        z_all=[]\n",
    "        for w,b in zip(self.weights,self.bias):\n",
    "            #Multiplying the 60 rows with 784 weight values with the input i.e each row of 784 is multiplied by the 784 input values \n",
    "            #and adding the bias value\n",
    "            z=np.dot(w,activation)+b \n",
    "            z_all.append(z)\n",
    "            activation=self.sigmoid(z)\n",
    "            activations.append(activation)\n",
    "        return activations,z_all\n",
    "    \n",
    "    def sigmoid(self,z):\n",
    "        return 1.0/(1.0+np.exp(-z))\n",
    "    \n",
    "    def sigmoid_derivative(self,z):\n",
    "        return self.sigmoid(z)*(1-self.sigmoid(z))\n",
    "    \n",
    "    def loss_function_derivative(self,Y_pred,Y_true):\n",
    "        return(Y_pred-Y_true)\n",
    "    \n",
    "    def cross_entropy_function(self,a,Y_true):\n",
    "        return np.sum(np.nan_to_num(-Y_true*np.log(a)-(1-Y_true)*np.log(1-a)))\n",
    "    \n",
    "    def derivative_cross_entropy(self,a,Y_true):\n",
    "        return (a-Y_true)\n",
    "    \n",
    "    def backpropogation(self,x,y):\n",
    "        derivative_biases=[np.zeros(b.shape) for b in self.bias]\n",
    "        derivative_weights=[np.zeros(w.shape) for w in self.weights]\n",
    "        activations,z_all=self.feedForward(x)\n",
    "        loss_delta=self.derivative_cross_entropy(activations[-1],y)*self.sigmoid_derivative(z_all[-1])\n",
    "        derivative_biases[-1]=loss_delta\n",
    "        derivative_weights[-1]=np.dot(loss_delta,activations[-2].T)\n",
    "        for layer in range(2,self.layers):\n",
    "            loss_delta=np.dot(self.weights[-layer+1].T,loss_delta)*self.sigmoid_derivative(z_all[-layer])\n",
    "            derivative_biases[-layer]=loss_delta\n",
    "            derivative_weights[-layer]=np.dot(loss_delta,activations[-layer-1].T)\n",
    "        return derivative_biases,derivative_weights,activations\n",
    "    \n",
    "    def get_predictions(self,a):\n",
    "        return np.argmax(a,0)\n",
    "    \n",
    "    def get_accuracy(self,predictions,y):\n",
    "        y=np.argmax(y)\n",
    "        return np.sum(predictions==y)\n",
    "    \n",
    "    def monitor_cost(self,training_data,lmbda):\n",
    "        cost=0.0\n",
    "        x_all=training_data[0]\n",
    "        y_all=training_data[1]\n",
    "        for x,y in zip(x_all.T,y_all.T):\n",
    "            x=np.reshape(x,(len(x),1))\n",
    "            y=np.reshape(y,(len(y),1))\n",
    "            activations,_=self.feedForward(x)\n",
    "            #Calculating the cross entropy cost value\n",
    "            cost+=self.cross_entropy_function(activations[-1],y)\n",
    "        #Adding the regularization term to the cross entropy cost,The np.linalg.norm calculates the norm of the matrix,which is\n",
    "        #the summation of all the terms in the matrix\n",
    "        cost+=0.5*(lmbda/len(training_data[0][0]))*sum(np.linalg.norm(w)**2 for w in self.weights)\n",
    "        return cost\n",
    "    \n",
    "    def evaluate(self,test_data,correct):\n",
    "        x_test_all=test_data[0]\n",
    "        y_test_all=test_data[1]\n",
    "        for x,y in zip(x_test_all.T,y_test_all.T):\n",
    "            x=np.reshape(x,(784,1))\n",
    "            y=np.reshape(y,(10,1))\n",
    "            k=self.make_predictions(x)\n",
    "            m=np.argmax(y)\n",
    "            if k==m:\n",
    "                correct+=1\n",
    "        return correct\n",
    "    \n",
    "    def make_predictions(self,x):\n",
    "        activations,_=self.feedForward(x)\n",
    "        return self.get_predictions(activations[-1])\n",
    "        \n",
    "    def save(self, filename):\n",
    "        \"\"\"Save the neural network to the file ``filename``.\"\"\"\n",
    "        data = {\"sizes\": self.layers,\n",
    "                \"weights\": [w.tolist() for w in self.weights],\n",
    "                \"biases\": [b.tolist() for b in self.bias],\n",
    "                \"cost\": str(Cross_entropy_function)}\n",
    "        f = open(filename, \"w\")\n",
    "        json.dump(data, f)\n",
    "        f.close()\n",
    "            \n",
    "        \n",
    "            \n",
    "        \n",
    "            "
   ]
  },
  {
   "cell_type": "code",
   "execution_count": 20,
   "id": "1404bd74",
   "metadata": {},
   "outputs": [],
   "source": [
    "def load(filename):\n",
    "    \"\"\"Load a neural network from the file ``filename``.  Returns an\n",
    "    instance of Network.\n",
    "\n",
    "    \"\"\"\n",
    "    f = open(filename, \"r\")\n",
    "    data = json.load(f)\n",
    "    f.close()\n",
    "    #cost = getattr(sys.modules[__name__], data[\"cost\"])\n",
    "    net = Network(data[\"sizes\"])\n",
    "    net.weights = [np.array(w) for w in data[\"weights\"]]\n",
    "    net.biases = [np.array(b) for b in data[\"biases\"]]\n",
    "    return net"
   ]
  },
  {
   "cell_type": "code",
   "execution_count": 28,
   "id": "f5312f56",
   "metadata": {},
   "outputs": [
    {
     "name": "stdout",
     "output_type": "stream",
     "text": [
      "Epoch:0,Accuracy=40.900999999999996\n",
      "Epoch:1,Accuracy=64.196\n",
      "Epoch:2,Accuracy=69.77799999999999\n",
      "Epoch:3,Accuracy=72.02300000000001\n",
      "Epoch:4,Accuracy=73.546\n",
      "Epoch:5,Accuracy=74.748\n",
      "Epoch:6,Accuracy=75.742\n",
      "Epoch:7,Accuracy=76.561\n",
      "Epoch:8,Accuracy=77.31400000000001\n",
      "Epoch:9,Accuracy=77.93299999999999\n",
      "Epoch:10,Accuracy=78.428\n",
      "Epoch:11,Accuracy=78.845\n",
      "Epoch:12,Accuracy=79.216\n",
      "Epoch:13,Accuracy=79.60300000000001\n",
      "Epoch:14,Accuracy=79.972\n"
     ]
    }
   ],
   "source": [
    "#learning_rates=[1.0,0.1,0.01]\n",
    "lmbda=[10,1,0.1]\n",
    "net=Network([784,50,100,10])\n",
    "training_cost,training_accuracy,test_accuracy=net.SGD(training_data,0.01,15,10,10,monitor_cost=True,test_accuracy=True,test_data=test_data)\n"
   ]
  },
  {
   "cell_type": "code",
   "execution_count": null,
   "id": "9bc67e92",
   "metadata": {},
   "outputs": [],
   "source": [
    "save(\"parameters.json\")"
   ]
  },
  {
   "cell_type": "code",
   "execution_count": null,
   "id": "e861e21d",
   "metadata": {},
   "outputs": [],
   "source": [
    "net1=load(\"parameters.json\")"
   ]
  },
  {
   "cell_type": "code",
   "execution_count": 31,
   "id": "89316769",
   "metadata": {},
   "outputs": [
    {
     "data": {
      "text/plain": [
       "array([11.689, 13.689, 14.23 , 14.581, 14.886, 15.094, 15.259, 15.385,\n",
       "       15.514, 15.609, 15.686, 15.741, 15.793, 15.863, 15.91 ])"
      ]
     },
     "execution_count": 31,
     "metadata": {},
     "output_type": "execute_result"
    }
   ],
   "source": [
    "test_accuracy"
   ]
  },
  {
   "cell_type": "code",
   "execution_count": 33,
   "id": "c22156e7",
   "metadata": {},
   "outputs": [
    {
     "data": {
      "text/plain": [
       "array([58.445, 68.445, 71.15 , 72.905, 74.43 , 75.47 , 76.295, 76.925,\n",
       "       77.57 , 78.045, 78.43 , 78.705, 78.965, 79.315, 79.55 ])"
      ]
     },
     "execution_count": 33,
     "metadata": {},
     "output_type": "execute_result"
    }
   ],
   "source": [
    "test_accuracy=np.array(test_accuracy)\n",
    "test_accuracy=(test_accuracy/20000)*100\n",
    "test_accuracy"
   ]
  },
  {
   "cell_type": "code",
   "execution_count": 38,
   "id": "d8716f84",
   "metadata": {},
   "outputs": [
    {
     "data": {
      "text/plain": [
       "array([40.901, 64.196, 69.778, 72.023, 73.546, 74.748, 75.742, 76.561,\n",
       "       77.314, 77.933, 78.428, 78.845, 79.216, 79.603, 79.972])"
      ]
     },
     "execution_count": 38,
     "metadata": {},
     "output_type": "execute_result"
    }
   ],
   "source": [
    "training_accuracy=np.array(training_accuracy)\n",
    "training_accuracy=(training_accuracy/100000)*100\n",
    "training_accuracy"
   ]
  },
  {
   "cell_type": "code",
   "execution_count": 178,
   "id": "dee0cdea",
   "metadata": {},
   "outputs": [],
   "source": [
    "def save(filename):\n",
    "        \"\"\"Save the neural network to the file ``filename``.\"\"\"\n",
    "        data = {\"sizes\": [784,60,30],\n",
    "                \"weights\": [w.tolist() for w in net.weights],\n",
    "                \"biases\": [b.tolist() for b in net.bias]}\n",
    "        f = open(filename, \"w\")\n",
    "        json.dump(data, f)\n",
    "        f.close()"
   ]
  },
  {
   "cell_type": "code",
   "execution_count": 39,
   "id": "14b6d4cd",
   "metadata": {},
   "outputs": [
    {
     "data": {
      "image/png": "[encoded data removed]",
      "text/plain": [
       "<Figure size 432x288 with 1 Axes>"
      ]
     },
     "metadata": {
      "needs_background": "light"
     },
     "output_type": "display_data"
    }
   ],
   "source": [
    "#for eta,training_costs in zip(learning_rates,training_cost):\n",
    "fig = plt.figure()\n",
    "ax = fig.add_subplot(111)\n",
    "ax.plot(np.arange(15), training_accuracy, \"o-\",label=\"$\\eta$ = \"+str(0.02),color=\"blue\")\n",
    "ax.plot(np.arange(15), test_accuracy, \"o-\",label=\"$\\eta$ = \"+str(0.02),color=\"Orange\")\n",
    "ax.set_xlim([0, 15])\n",
    "ax.set_xlabel('Epoch')\n",
    "ax.set_ylabel('Cost')\n",
    "plt.legend(loc='upper right')\n",
    "plt.show()"
   ]
  },
  {
   "cell_type": "code",
   "execution_count": 40,
   "id": "f89bed65",
   "metadata": {},
   "outputs": [],
   "source": [
    "def make_predictions(x):\n",
    "    activations,_=net.feedForward(x)\n",
    "    return net.get_predictions(activations[-1])\n",
    "\n",
    "def test_prediction(index):\n",
    "    index=index.astype('float64')\n",
    "    x=index.reshape((784,1))\n",
    "    x=x/255\n",
    "    prediction=make_predictions(x)\n",
    "    current_image=index\n",
    "    sketch={\n",
    "        0:\"Eiffel Tower\",\n",
    "        1:\"Airplane\",\n",
    "        2:\"Apple\",\n",
    "        3:\"bee\",\n",
    "        4:\"cake\",\n",
    "        5:\"car\",\n",
    "        6:\"church\",\n",
    "        7:\"Dolphin\",\n",
    "        8:\"Dragon\",\n",
    "        9:\"House\"\n",
    "    }\n",
    "    return sketch[prediction[0]]\n",
    "    "
   ]
  },
  {
   "cell_type": "code",
   "execution_count": 41,
   "id": "3599dfcc",
   "metadata": {},
   "outputs": [],
   "source": [
    "# import the time module\n",
    "import time\n",
    "\n",
    "# define the countdown func.\n",
    "def countdown(t=25):\n",
    "    \n",
    "    sketch={\n",
    "        0:\"Eiffel Tower\",\n",
    "        1:\"Airplane\",\n",
    "        2:\"Apple\",\n",
    "        3:\"bee\",\n",
    "        4:\"cake\",\n",
    "        5:\"car\",\n",
    "        6:\"church\",\n",
    "        7:\"Dolphin\",\n",
    "        8:\"Dragon\",\n",
    "        9:\"House\"\n",
    "    }\n",
    "    c=random.randrange(0,10)\n",
    "    return(sketch[c])\n",
    "\n",
    "    while t:\n",
    "        mins, secs = divmod(t, 60)\n",
    "        timer = '{:02d}:{:02d}'.format(mins, secs)\n",
    "        print(timer, end=\"\\r\")\n",
    "        time.sleep(1)\n",
    "        t -= 1\n",
    "    \n",
    "\n",
    "\n",
    "# input time in seconds\n",
    "#t = input(\"Enter the time in seconds: \")\n",
    "def call():\n",
    "    t=25\n",
    "    # function call\n",
    "    for i in range(5):\n",
    "        countdown(int(t))"
   ]
  },
  {
   "cell_type": "code",
   "execution_count": 42,
   "id": "f780ee80",
   "metadata": {},
   "outputs": [
    {
     "name": "stdout",
     "output_type": "stream",
     "text": [
      "IMPORTANT: You are using gradio version 3.6, however version 3.14.0 is available, please upgrade.\n",
      "--------\n",
      "Hint: Set streaming=True for Sketchpad component to use live streaming.\n",
      "Running on local URL:  http://127.0.0.1:7860\n",
      "\n",
      "To create a public link, set `share=True` in `launch()`.\n"
     ]
    },
    {
     "data": {
      "text/html": [
       "<div><iframe src=\"http://127.0.0.1:7860/\" width=\"900\" height=\"500\" allow=\"autoplay; camera; microphone; clipboard-read; clipboard-write;\" frameborder=\"0\" allowfullscreen></iframe></div>"
      ],
      "text/plain": [
       "<IPython.core.display.HTML object>"
      ]
     },
     "metadata": {},
     "output_type": "display_data"
    },
    {
     "data": {
      "text/plain": [
       "(<gradio.routes.App at 0x1dc3215b0a0>, 'http://127.0.0.1:7860/', None)"
      ]
     },
     "execution_count": 42,
     "metadata": {},
     "output_type": "execute_result"
    }
   ],
   "source": [
    "def update(name):\n",
    "    return f\"Welcome to Gradio, {name}!\"\n",
    "with gr.Blocks() as demo:\n",
    "    gr.Markdown(\"Press Start to play\")\n",
    "    with gr.Row():\n",
    "        out = gr.Textbox()\n",
    "    gr.Interface(fn=test_prediction,inputs=\"sketchpad\",outputs=\"label\",live=True)\n",
    "    btn = gr.Button(\"Start\")\n",
    "    btn.click(fn=countdown,inputs=None, outputs=out)\n",
    "demo.launch()"
   ]
  },
  {
   "cell_type": "code",
   "execution_count": null,
   "id": "232d7bd0",
   "metadata": {},
   "outputs": [],
   "source": []
  }
 ],
 "metadata": {
  "kernelspec": {
   "display_name": "Python 3 (ipykernel)",
   "language": "python",
   "name": "python3"
  },
  "language_info": {
   "codemirror_mode": {
    "name": "ipython",
    "version": 3
   },
   "file_extension": ".py",
   "mimetype": "text/x-python",
   "name": "python",
   "nbconvert_exporter": "python",
   "pygments_lexer": "ipython3",
   "version": "3.9.12"
  }
 },
 "nbformat": 4,
 "nbformat_minor": 5
}
